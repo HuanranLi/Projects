{
 "cells": [
  {
   "cell_type": "markdown",
   "metadata": {},
   "source": [
    "# Movie Rating Prediction\n",
    "###  --ECE 532 Honor Project\n",
    "\n",
    "#### Student: Huanran Li (hli488@wisc.edu)\n",
    "#### Advised by Professor: Matthew Malloy\n",
    "\n",
    "### Table of Contents\n",
    "\n",
    "1. [Introduction](#1.-Introduction)\n",
    "2. [File Input & Dict Creation](#2.-File-Input-and-Dict-Creation)\n",
    "3. [Principal component analysis (PCA) on user/movie ratings matrix](#3.-Principal-component-analysis-(PCA)-on-user/movie-ratings-matrix)\n",
    "4. [Average Movie Score Prediction](#4.-Average-Movie-Score-Prediction)\n",
    "    1. [Least Square Fit](#4.A-Least-Square-Fit)\n",
    "    2. [Least Square with Ridge Regression](#4.B-Least-Square-with-Ridge-Regression)\n",
    "    3. [Least Square with Truncated SVD](#4.C-Least-Square-with-Truncated-SVD)\n",
    "5. [Single User's Movie Rating Prediction](#5.-Single-User's-Movie-Rating-Prediction)\n",
    "    1. [Linear Least Square Fit](#5.A-Linear-Least-Square-Fit)\n",
    "    2. [High Dimension Least Square Fit with L2 regularization](#5.B-High-Dimension-Least-Square-Fit-with-L2-regularization)\n",
    "6. [Discussion](#6.-Discussion)\n",
    "    1. [Average Rating Prediction](#6.A-Average-Rating-Prediction)\n",
    "    2. [User's Rating Prediction](#6.B-User's-Rating-Prediction)\n",
    "7. [Conclusion](#7.-Conclusion)"
   ]
  },
  {
   "cell_type": "markdown",
   "metadata": {},
   "source": [
    "## 1. Introduction ##\n",
    "\n",
    "This Project was based on the dataset found on Kaggle, which has over 20M movie ratings and tagging activity since 1995. Dataset can be found at: https://www.kaggle.com/grouplens/movielens-20m-dataset.\n",
    "\n",
    "From the rating and tags, this project aimed to predict the movie's rating score based on its tags and the user's past rating record. To achieve this, the project would be split into three parts. \n",
    "\n",
    "The first part was going to analyze the relationship between the user's rating and tags of a movie by PCA. The sparse matrix was implemented due to the large size of the rating matrix. Then the movie with the high scores in the singular vectors would be selected and its tags would be counted. In this way, the pattern could be revealed by showing the most common tags that the selected movies all had.\n",
    "\n",
    "The second part performed a linear least square regression with 2 types of regularization to find the relationship between the average movie ratings and tags' percentage. From the model we trained, we could effectively predict a movie's average rating (from 1 to 5) based on the the movie's tags.\n",
    "\n",
    "The third part was able to predict a single user's movie rating scores based on this user's past rating record on other movies. This was done by fitting a LS regression between the user's past score record and the left singular vectors from the rating sparse matrix. In this part, two regression methods were implemented, which were linear least square and Gaussian Kernel LS regression."
   ]
  },
  {
   "cell_type": "code",
   "execution_count": 2,
   "metadata": {},
   "outputs": [],
   "source": [
    "import time\n",
    "import random\n",
    "import numpy as np\n",
    "import scipy\n",
    "from scipy.sparse import coo_matrix\n",
    "from scipy.sparse.linalg import svds, eigs\n",
    "import matplotlib.pyplot as plt\n",
    "import math"
   ]
  },
  {
   "cell_type": "markdown",
   "metadata": {},
   "source": [
    "##  2. File Input and Dict Creation##\n",
    "This part contained all the necessary methods to read data from files and create the corresponding dict or list.\n",
    "After this section, the following data structures were going to created based on the input file.\n",
    "\n",
    "\n",
    "### 1. rating[  ]\n",
    "\n",
    "| UserID        | MovieID|Rating          |\n",
    "| ------------- |:-------------:| --------:|\n",
    "|0|0| 3.5|\n",
    "|1|3| 4.5|\n",
    "|..|..|..|\n"
   ]
  },
  {
   "cell_type": "code",
   "execution_count": null,
   "metadata": {},
   "outputs": [],
   "source": [
    "import csv\n",
    "import time\n",
    "\n",
    "start_time = time.time()\n",
    "rating = []\n",
    "\n",
    "#reading the data with the row structure: [userid, movieid, rating]\n",
    "with open('rating.csv') as csvfile:\n",
    "    readCSV = csv.reader(csvfile, delimiter=',')\n",
    "    for row in readCSV:\n",
    "        rating.append(row[0:3])\n",
    "\n",
    "#delete the first row with title\n",
    "rating = rating[1:]\n",
    "\n",
    "np.savetxt('rating_data.txt', rating, fmt = '%s')\n",
    "\n",
    "print(\"Time taken: \", (time.time() - start_time))"
   ]
  },
  {
   "cell_type": "code",
   "execution_count": 5,
   "metadata": {},
   "outputs": [
    {
     "name": "stdout",
     "output_type": "stream",
     "text": [
      "Time taken:  173.77225255966187\n"
     ]
    }
   ],
   "source": [
    "start_time = time.time()\n",
    "rating = np.loadtxt('rating_data.txt', dtype = str)\n",
    "print(\"Time taken: \", (time.time() - start_time))"
   ]
  },
  {
   "cell_type": "code",
   "execution_count": 15,
   "metadata": {},
   "outputs": [
    {
     "name": "stdout",
     "output_type": "stream",
     "text": [
      "rating shape:  (20000263, 3)\n"
     ]
    }
   ],
   "source": [
    "sample_rating = rating[:].copy()\n",
    "\n",
    "#transfer a double list to a matrix so that we could use [tuple] for indexing, like [1:2,:]\n",
    "temp = []\n",
    "for row in sample_rating:\n",
    "    temp.append([int(row[0]),int(row[1]),float(row[2])])\n",
    "temp = np.asarray(temp)\n",
    "sample_rating = temp\n",
    "print(\"rating shape: \", sample_rating.shape)"
   ]
  },
  {
   "cell_type": "markdown",
   "metadata": {},
   "source": [
    "### 2. movie_tag_score_list{  }\n",
    "\n",
    "| MovieID        | MovieTags{  }          |\n",
    "| ------------- |--------:|\n",
    "|0|movie_tags{ }|\n",
    "|1|movie_tags{ }|\n",
    "|..|..|..|\n",
    "\n",
    "#### where movie_tags{  } were:\n",
    "\n",
    "| TagID        | Tag Score          |\n",
    "| ------------- |--------:|\n",
    "|1| 0.025|\n",
    "|2|0.025|\n",
    "|3|0.05775|\n",
    "|..|..|..|\n",
    "\n"
   ]
  },
  {
   "cell_type": "code",
   "execution_count": 3,
   "metadata": {},
   "outputs": [
    {
     "name": "stdout",
     "output_type": "stream",
     "text": [
      "Time taken:  12.343984365463257\n"
     ]
    }
   ],
   "source": [
    "import csv\n",
    "import time\n",
    "\n",
    "#dict container structure: movie_tag_score_list[movie_id] = movie_tag{tag_id: tag_score}\n",
    "movie_tag_score_list = {}\n",
    "start_time = time.time()\n",
    "\n",
    "#reading the data with the row structure: [movie_id, tag_id, tag_score]\n",
    "with open(\"genome_scores.csv\") as csvfile:\n",
    "    readCSV = csv.reader(csvfile, delimiter = ',')\n",
    "    movie_id = 1\n",
    "    movie_tag = {}\n",
    "    for row in readCSV:\n",
    "        movie_id_new = row[0]\n",
    "        if(movie_id_new == 'movieId'):\n",
    "            continue\n",
    "        else:\n",
    "            movie_id_new = int(movie_id_new)\n",
    "            \n",
    "        if(movie_id == movie_id_new):\n",
    "            movie_tag[int(row[1])] = float(row[2])\n",
    "        else:\n",
    "            movie_tag_score_list[movie_id] = movie_tag\n",
    "            movie_tag = {}\n",
    "            movie_id = movie_id_new\n",
    "            \n",
    "print(\"Time taken: \", (time.time() - start_time))\n"
   ]
  },
  {
   "cell_type": "markdown",
   "metadata": {},
   "source": [
    "### 3. tag_list{  }:\n",
    "\n",
    "| TagID        | Tag Name          |\n",
    "| ------------- |--------:|\n",
    "|1| 007|\n",
    "|2|007 (series)|\n",
    "|3|18th century|\n",
    "|..|..|\n"
   ]
  },
  {
   "cell_type": "code",
   "execution_count": 4,
   "metadata": {},
   "outputs": [],
   "source": [
    "#dict container structure: tag_list[tag_id] = tag_name\n",
    "tag_list = {}\n",
    "\n",
    "with open(\"genome_tags.csv\") as csvfile:\n",
    "    readCSV = csv.reader(csvfile, delimiter = ',')\n",
    "    for row in readCSV:\n",
    "        if (row[0] == 'tagId'):\n",
    "            continue\n",
    "        tag_list[int(row[0])] = row[1]"
   ]
  },
  {
   "cell_type": "markdown",
   "metadata": {},
   "source": [
    "### 4.  user_dict{  }:\n",
    "\n",
    "| UserID (discontinuous)        | User_index (continuous)      | \n",
    "| ------------- |--------:|\n",
    "|1| 0|\n",
    "|2|1|\n",
    "|3|2|\n",
    "|..|..|\n"
   ]
  },
  {
   "cell_type": "code",
   "execution_count": 7,
   "metadata": {
    "scrolled": true
   },
   "outputs": [],
   "source": [
    "#relable all the users with dict structure: user_dict[user_id] = user_index\n",
    "user_dict = dict.fromkeys([row[0] for row in sample_rating])\n",
    "cnt = 0\n",
    "for row in user_dict:\n",
    "    user_dict[row] = cnt\n",
    "    cnt += 1"
   ]
  },
  {
   "cell_type": "markdown",
   "metadata": {},
   "source": [
    "\n",
    "### 5.  movie_dict{  }:\n",
    "\n",
    "| MovieID (discontinuous)       | Movie_index (continuous)|    \n",
    "| ------------- |--------:|\n",
    "|1| 0|\n",
    "|4|1|\n",
    "|8|2|\n",
    "|10|3|\n",
    "|..|..|"
   ]
  },
  {
   "cell_type": "code",
   "execution_count": 8,
   "metadata": {},
   "outputs": [],
   "source": [
    "#relabel all the movie with dict structure: movie_dict[movie_id] = movie_index\n",
    "movie_dict = dict.fromkeys([row[1] for row in sample_rating])\n",
    "\n",
    "cnt = 0\n",
    "for row in movie_dict:\n",
    "    movie_dict[row] = cnt\n",
    "    cnt += 1"
   ]
  },
  {
   "cell_type": "code",
   "execution_count": 19,
   "metadata": {},
   "outputs": [
    {
     "name": "stdout",
     "output_type": "stream",
     "text": [
      "Total # of ratings:  20000263\n",
      "Total # of users found:  138493\n",
      "Total # of movies found:  26744\n",
      "Filling Rate:  0.00539984781355445\n"
     ]
    }
   ],
   "source": [
    "print(\"Total # of ratings: \", sample_rating.shape[0])\n",
    "print(\"Total # of users found: \", len(user_dict))\n",
    "print(\"Total # of movies found: \", len(movie_dict))\n",
    "print(\"Filling Rate: \", sample_rating.shape[0]/ len(user_dict) / len(movie_dict) )"
   ]
  },
  {
   "cell_type": "markdown",
   "metadata": {},
   "source": [
    "## 3. Principal component analysis (PCA) on user/movie ratings matrix##\n",
    "\n",
    "In order to perform PCA, we constructed a matrix which contained all movie ratings from every user in the following structure. If the user did not rating a specific movie, that score would result in 0.\n",
    "\n",
    "|_ |Movie_0| Movie_1|Movie_2|...|Movie_26744|    \n",
    "| -------------:|--------:| -------------:|--------:|-------------:|--------:|\n",
    "|User_0 |3.5 |3.5 |4.5|...|4|\n",
    "|User_1 |0 |0 |0|...|3|\n",
    "|User_2 |0 |1 |0|...|1.5|\n",
    "|... |... |... |...|...|...|\n",
    "|User_138493 |0 |0 |0|...|0|\n",
    "\n",
    "The matrix size: $ \\#users * \\#movies = 3.7G $  \n",
    "Amount of ratings: $ \\#ratings = 20M $  \n",
    "The matrix filling rate: $$\\frac{\\#ratings }{\\#users * \\#movies}  = 0.5\\% $$\n",
    "\n",
    "Due to the large size and sparsity of the matrix, I decided to reconstruct the data structure into a sparse matrix in the coordinate form.\n",
    "\n",
    "| User_index        | Movie_index  |Rating          |\n",
    "| ------------- |:-------------:| --------:|\n",
    "|0|0| 3.5|\n",
    "|1|0| 4.5|\n",
    "|..|..|..|\n",
    "\n"
   ]
  },
  {
   "cell_type": "markdown",
   "metadata": {},
   "source": [
    "### Step 1: Sparse Matrix Creation and Mean Removal"
   ]
  },
  {
   "cell_type": "code",
   "execution_count": 10,
   "metadata": {},
   "outputs": [],
   "source": [
    "#construct the sparse Matrix\n",
    "rating_number = sample_rating[:,2]\n",
    "col_index = [user_dict[i] for i in sample_rating[:,0]]\n",
    "row_index = [movie_dict[i] for i in sample_rating[:,1]]\n",
    "\n",
    "sp_matrix = scipy.sparse.coo_matrix((rating_number, (row_index, col_index)), shape = (len(movie_dict), len(user_dict)))"
   ]
  },
  {
   "cell_type": "code",
   "execution_count": 39,
   "metadata": {},
   "outputs": [
    {
     "name": "stdout",
     "output_type": "stream",
     "text": [
      "(26744, 1)\n",
      "At data index  0 ; Time taken:  0.00010749505625830757 hours\n",
      "At data index  10000 ; Time taken:  1.0578165900707246 hours\n",
      "At data index  20000 ; Time taken:  2.096303464240498 hours\n"
     ]
    }
   ],
   "source": [
    "#find the total of each row\n",
    "rolsum = scipy.sparse.coo_matrix.sum(sp_matrix, axis = 1)\n",
    "start_time = time.time()\n",
    "print(rolsum.shape)\n",
    "for i in range(rolsum.shape[0]):\n",
    "    row = sp_matrix.getrow(i)\n",
    "    nonzero = row.getnnz()\n",
    "    rolsum[i] = rolsum[i]/nonzero\n",
    "    if(i % 10000 == 0): #around 1 h\n",
    "        print(\"At data index \",i, \"; Time taken: \", (time.time() - start_time) / 3600 , \"hours\")"
   ]
  },
  {
   "cell_type": "code",
   "execution_count": 40,
   "metadata": {},
   "outputs": [],
   "source": [
    "#construct the sparse matrix with every row's mean = 0\n",
    "zero_mean_sample = sample_rating.copy()\n",
    "\n",
    "for i in range(len(zero_mean_sample)):\n",
    "    zero_mean_sample[i][2] = zero_mean_sample[i][2] - rolsum[ movie_dict[zero_mean_sample[i][1]] , 0]\n",
    "    \n",
    "rating_number_z = zero_mean_sample[:,2]\n",
    "col_index_z = [user_dict[i] for i in zero_mean_sample[:,0]]\n",
    "row_index_z = [movie_dict[i] for i in zero_mean_sample[:,1]]\n",
    "\n",
    "sp_matrix_zero = scipy.sparse.coo_matrix((rating_number_z, (row_index_z, col_index_z)), shape = (len(movie_dict), len(user_dict)))"
   ]
  },
  {
   "cell_type": "code",
   "execution_count": 41,
   "metadata": {},
   "outputs": [
    {
     "name": "stdout",
     "output_type": "stream",
     "text": [
      "Mean of the zero_mean matrix:  [[5.20010467e-17]\n",
      " [7.58623883e-20]\n",
      " [2.34462108e-16]\n",
      " ...\n",
      " [0.00000000e+00]\n",
      " [0.00000000e+00]\n",
      " [0.00000000e+00]]\n"
     ]
    }
   ],
   "source": [
    "#zero mean test\n",
    "movie_mean = scipy.sparse.coo_matrix.mean(sp_matrix_zero, axis = 1)\n",
    "print(\"Mean of the zero_mean matrix: \", movie_mean)"
   ]
  },
  {
   "cell_type": "code",
   "execution_count": 42,
   "metadata": {
    "scrolled": false
   },
   "outputs": [
    {
     "name": "stdout",
     "output_type": "stream",
     "text": [
      "Zero mean matrix:    (0, 0)\t0.2880231983095807\n",
      "  (1, 0)\t-0.4522300469483569\n",
      "  (2, 0)\t-0.39805469097376633\n",
      "  (3, 0)\t-0.5534925663021113\n",
      "  (4, 0)\t-0.8343722078032592\n",
      "  (5, 0)\t0.08742640874684593\n",
      "  (6, 0)\t0.46096227013316415\n",
      "  (7, 0)\t0.13044946191179552\n",
      "  (8, 0)\t0.5033553395240857\n",
      "  (9, 0)\t-0.19067190194855232\n",
      "  (10, 0)\t-0.0505735544876762\n",
      "  (11, 0)\t-0.17423116921705528\n",
      "  (12, 0)\t-0.4469904996370291\n",
      "  (13, 0)\t-0.25583021083832014\n",
      "  (14, 0)\t0.3252821079571895\n",
      "  (15, 0)\t-0.13370569350717432\n",
      "  (16, 0)\t-0.4319539085828037\n",
      "  (17, 0)\t-0.6770565095815098\n",
      "  (18, 0)\t-0.21684751972942484\n",
      "  (19, 0)\t-0.4816805288974195\n",
      "  (20, 0)\t-0.4557478319407595\n",
      "  (21, 0)\t0.3623271889400921\n",
      "  (22, 0)\t0.06615349189118058\n",
      "  (23, 0)\t0.15037613093422797\n",
      "  (24, 0)\t-0.4811256506299557\n",
      "  :\t:\n",
      "  (1944, 138492)\t0.5477787091366304\n",
      "  (2603, 138492)\t0.04247910863509752\n",
      "  (971, 138492)\t-0.39443625644804703\n",
      "  (1945, 138492)\t0.5076782925559606\n",
      "  (972, 138492)\t1.1527428283844992\n",
      "  (974, 138492)\t1.177877824858757\n",
      "  (1953, 138492)\t1.2630243572395128\n",
      "  (5180, 138492)\t1.065909090909091\n",
      "  (988, 138492)\t-0.5851663846587702\n",
      "  (989, 138492)\t0.5942731277533038\n",
      "  (9547, 138492)\t1.096774193548387\n",
      "  (1001, 138492)\t0.08694742129939703\n",
      "  (3938, 138492)\t0.08289930555555536\n",
      "  (1805, 138492)\t1.2871530886302596\n",
      "  (1007, 138492)\t-0.03892904073587378\n",
      "  (6156, 138492)\t0.7928571428571427\n",
      "  (1810, 138492)\t0.9863582443653618\n",
      "  (1812, 138492)\t1.207317073170732\n",
      "  (11011, 138492)\t0.9050632911392404\n",
      "  (1036, 138492)\t1.174051754696916\n",
      "  (1814, 138492)\t0.4617335924006909\n",
      "  (1037, 138492)\t1.5618787276341948\n",
      "  (3950, 138492)\t-0.38712972420837577\n",
      "  (1818, 138492)\t1.127519283403832\n",
      "  (4010, 138492)\t-0.9294871794871793\n"
     ]
    }
   ],
   "source": [
    "print(\"Zero mean matrix: \", sp_matrix_zero)"
   ]
  },
  {
   "cell_type": "markdown",
   "metadata": {},
   "source": [
    "### Step 2: Movie Score Contribution Analysis by PCA ###\n",
    "This section was done in several steps: \n",
    "\n",
    "1. Found the principal components from svd on the mean-removed sparse matrix.  \n",
    "2. Created a movie set by picking the movies with large values from a given principal component.\n",
    "3. Count the tag appearance from the top 5 tags of each movie\n",
    "4. Printed the first 5 tags and their appearances.\n",
    "5. Plot the graph of all tags counted.\n"
   ]
  },
  {
   "cell_type": "code",
   "execution_count": 28,
   "metadata": {},
   "outputs": [],
   "source": [
    "def u_movie_analysis(u_index, u, top_tags_number):\n",
    "    #find the same format of information for the u_index'th singular vector\n",
    "    u_single = u[:,u_index]\n",
    "    u_single_dict = {}\n",
    "    for i in range(len(u_single)):\n",
    "        if(u_single[i] > 0):\n",
    "            u_single_dict[i] = u_single[i]\n",
    "\n",
    "    #tag count\n",
    "    tag_cnt = {}\n",
    "\n",
    "    #find the tag of these movie favored by the first taste vector u[0]\n",
    "    for movie_index in u_single_dict:\n",
    "        #find the key based on the value\n",
    "        movie_id = list(movie_dict.keys())[list(movie_dict.values()).index(movie_index)]\n",
    "\n",
    "        #get the list of tag:percentage based on that movie\n",
    "        if(movie_id not in movie_tag_score_list):\n",
    "            print(\"movie id \", movie_id, \"NOT found in tags_scores_list\")\n",
    "            continue\n",
    "        scores = movie_tag_score_list[movie_id]\n",
    "\n",
    "        #pick the first top_tag_number tags of each movie\n",
    "        rank_list = sorted(scores, key=scores.get, reverse=True)\n",
    "        top = rank_list[0:top_tags_number]\n",
    "        top_dict = {i: tag_list[i] for i in top}\n",
    "\n",
    "        #count the tags for each movie\n",
    "        for item in top_dict:\n",
    "            if item in tag_cnt:\n",
    "                tag_cnt[item] += 1\n",
    "            else:\n",
    "                tag_cnt[item] = 1\n",
    "\n",
    "    sorted_list = sorted(tag_cnt, key=tag_cnt.get, reverse=True)\n",
    "    tag_ranked = {i: tag_cnt[i] for i in sorted_list}\n",
    "    return tag_ranked\n"
   ]
  },
  {
   "cell_type": "code",
   "execution_count": 29,
   "metadata": {},
   "outputs": [],
   "source": [
    "def output_result(u_index, u, top_tags_number = 10, top_print_number = 5, print_graph = True):\n",
    "    tag_ranked = u_movie_analysis(u_index, u, top_tags_number)\n",
    "    cnt = 0\n",
    "    for movie in tag_ranked:\n",
    "        cnt += 1\n",
    "        print(tag_list[movie], \":\", tag_ranked[movie])\n",
    "        if(cnt >= top_print_number):\n",
    "            break\n",
    "            \n",
    "    if(print_graph):\n",
    "        movies_plot = [tag_list[movie] for movie in tag_ranked]\n",
    "        cnt_plot = [tag_ranked[movie] for movie in tag_ranked]\n",
    "\n",
    "        plt.plot(movies_plot, cnt_plot)"
   ]
  },
  {
   "cell_type": "code",
   "execution_count": 26,
   "metadata": {},
   "outputs": [],
   "source": [
    "u, s, vt = svds(sp_matrix_zero)\n",
    "\n",
    "threshold = 0.01\n",
    "\n",
    "#eliminate the small value\n",
    "for i in range(len(u)):\n",
    "    for j in range(len(u[i])):\n",
    "        if(u[i,j] <= threshold):\n",
    "            u[i,j] = 0\n",
    "                   "
   ]
  },
  {
   "cell_type": "markdown",
   "metadata": {},
   "source": [
    "#### Tag appearance on the first principal component:"
   ]
  },
  {
   "cell_type": "code",
   "execution_count": 30,
   "metadata": {},
   "outputs": [
    {
     "name": "stdout",
     "output_type": "stream",
     "text": [
      "imdb top 250 : 72\n",
      "great acting : 58\n",
      "action : 51\n",
      "original : 41\n",
      "comedy : 39\n"
     ]
    },
    {
     "data": {
      "image/png": "[encoded data removed]",
      "text/plain": [
       "<Figure size 432x288 with 1 Axes>"
      ]
     },
     "metadata": {
      "needs_background": "light"
     },
     "output_type": "display_data"
    }
   ],
   "source": [
    "output_result(0,u) "
   ]
  },
  {
   "cell_type": "markdown",
   "metadata": {},
   "source": [
    "#### Tag appearance on the second principal component:"
   ]
  },
  {
   "cell_type": "code",
   "execution_count": 31,
   "metadata": {},
   "outputs": [
    {
     "name": "stdout",
     "output_type": "stream",
     "text": [
      "action : 92\n",
      "original : 85\n",
      "comedy : 81\n",
      "chase : 59\n",
      "good action : 58\n"
     ]
    },
    {
     "data": {
      "image/png": "[encoded data removed]",
      "text/plain": [
       "<Figure size 432x288 with 1 Axes>"
      ]
     },
     "metadata": {
      "needs_background": "light"
     },
     "output_type": "display_data"
    }
   ],
   "source": [
    "output_result(1,u)  "
   ]
  },
  {
   "cell_type": "markdown",
   "metadata": {},
   "source": [
    "#### Tag appearance on the third principal component:"
   ]
  },
  {
   "cell_type": "code",
   "execution_count": 32,
   "metadata": {},
   "outputs": [
    {
     "name": "stdout",
     "output_type": "stream",
     "text": [
      "imdb top 250 : 96\n",
      "original : 88\n",
      "classic : 66\n",
      "comedy : 61\n",
      "romantic : 60\n"
     ]
    },
    {
     "data": {
      "image/png": "[encoded data removed]",
      "text/plain": [
       "<Figure size 432x288 with 1 Axes>"
      ]
     },
     "metadata": {
      "needs_background": "light"
     },
     "output_type": "display_data"
    }
   ],
   "source": [
    "output_result(2,u)  "
   ]
  },
  {
   "cell_type": "markdown",
   "metadata": {},
   "source": [
    "## 4. Average Movie Score Prediction ##\n",
    "\n",
    "In this section, I calculated the average score of each movie and saved them as a vector.  \n",
    "Then I constructed a matrix that contained all the tag scores of each movie.  \n",
    "\n",
    "Average Movie Rating $y$:\n",
    "\n",
    "|Movie_index| Average Rating|\n",
    "|----------:|--------------:|\n",
    "|0| 3.01|\n",
    "|1| 2.77|\n",
    "|...|...|\n",
    "\n",
    "Movie-Tag Scores Matrix $A$:  \n",
    "\n",
    "|_ |tag_0| tag_1|tag_2|...|tag_1129|    \n",
    "| -------------:|--------:| -------------:|--------:|-------------:|--------:|\n",
    "|Movie_0 |0.025 |0.025 |0.05775|...|0|\n",
    "|Movie_1 |0 |0 |0.05|...|0|\n",
    "|Movie_2 |0 |0.02 |0|...|0.15|\n",
    "|... |... |... |...|...|...|\n",
    "|Movie_26744 |0.1 |0 |0|...|0|\n",
    "\n",
    "\n",
    "Note: the data did not contain the tag scores for all the movie. So I did not add the movie into either the matrix or the average movie rating vector, if the movie's tag scores were not available.  \n",
    "The projection of the movie's tag scores onto the first 2 singular vectors were also plotted to see if the movies are distributed into different clusters.\n",
    "\n",
    "To better evaluate the model, I split the dataset into training and test dataset by the ratio 4:1."
   ]
  },
  {
   "cell_type": "code",
   "execution_count": 92,
   "metadata": {},
   "outputs": [
    {
     "name": "stdout",
     "output_type": "stream",
     "text": [
      "Matrix Shape:  (10369, 1130)\n"
     ]
    }
   ],
   "source": [
    "#construct Matrix A for the least square problem\n",
    "tag_matrix = []\n",
    "\n",
    "#record the movie_id to the row_index in A\n",
    "#movie_index_for_y[movie_id] = row_index\n",
    "movie_index_for_y = {}\n",
    "\n",
    "#index indicator\n",
    "cnt = 0\n",
    "\n",
    "for movie_raw_id in movie_dict:\n",
    "\n",
    "    if(movie_raw_id not in movie_tag_score_list):\n",
    "        #print(\"movie id \", movie_raw_id, \"NOT found in tags_scores_list\")\n",
    "        continue\n",
    "    \n",
    "    movie_index_for_y[movie_raw_id] = cnt\n",
    "    cnt += 1\n",
    "    \n",
    "    #construct matrix A\n",
    "    scores = movie_tag_score_list[movie_raw_id]\n",
    "    score_vec = np.zeros(len(tag_list ) + 2)\n",
    "    \n",
    "    for tag in scores:\n",
    "        score_vec[tag] = scores[tag]\n",
    "        \n",
    "    #offset\n",
    "    score_vec[-1] = 1\n",
    "    tag_matrix.append(score_vec)\n",
    "\n",
    "tag_matrix = np.asarray(tag_matrix)\n",
    "print(\"Matrix Shape: \", tag_matrix.shape)"
   ]
  },
  {
   "cell_type": "code",
   "execution_count": 93,
   "metadata": {},
   "outputs": [
    {
     "name": "stdout",
     "output_type": "stream",
     "text": [
      "Average Vector Shape:  (10369,)\n"
     ]
    }
   ],
   "source": [
    "#calculate Matrix y for the least square problem\n",
    "average_vec = np.zeros(len(movie_index_for_y))\n",
    "\n",
    "#movie count for the average calculation\n",
    "movie_id_cnt = {}\n",
    "for movie_raw_id in movie_dict:\n",
    "    movie_id_cnt[movie_raw_id] = 0\n",
    "\n",
    "#sum up\n",
    "for rating in sample_rating:\n",
    "    if(rating[1] not in movie_tag_score_list):\n",
    "        continue\n",
    "        \n",
    "    index = movie_index_for_y[int(rating[1])]\n",
    "    average_vec[index] += rating[2]\n",
    "    movie_id_cnt[rating[1]] += 1\n",
    "\n",
    "#take the average\n",
    "for i in range(len(average_vec)):\n",
    "    index = list(movie_index_for_y.keys())[list(movie_index_for_y.values()).index(i)]\n",
    "    average_vec[i] /= movie_id_cnt[index]\n",
    "print(\"Average Vector Shape: \", average_vec.shape)"
   ]
  },
  {
   "cell_type": "code",
   "execution_count": 94,
   "metadata": {},
   "outputs": [
    {
     "name": "stdout",
     "output_type": "stream",
     "text": [
      "Time taken(Sec):  3.3041269779205322\n"
     ]
    }
   ],
   "source": [
    "start_time = time.time()\n",
    "\n",
    "tag_matrix_T = tag_matrix.T\n",
    "#remove mean\n",
    "mean = tag_matrix_T.mean(axis = 1)\n",
    "tag_matrix_T_zeroM = tag_matrix_T - mean[:, np.newaxis]\n",
    "\n",
    "xtag_proj = []\n",
    "ytag_proj = []\n",
    "\n",
    "\n",
    "u, s, vt = np.linalg.svd(tag_matrix_T_zeroM)\n",
    "u_x = u[:, 0]\n",
    "u_y = u[:, 1]\n",
    "#print(u_x.T @ sp_matrix_zero.getcol(0).toarray())\n",
    "#iterate through person\n",
    "for i in range(tag_matrix_T.shape[1]):\n",
    "    arr = tag_matrix_T_zeroM[:, i]\n",
    "    x_temp = u_x.T @ arr\n",
    "    y_temp = u_y.T @ arr\n",
    "    xtag_proj.append(x_temp) \n",
    "    ytag_proj.append(y_temp)\n",
    "\n",
    "print(\"Time taken(Sec): \", (time.time() - start_time))"
   ]
  },
  {
   "cell_type": "code",
   "execution_count": 95,
   "metadata": {},
   "outputs": [
    {
     "data": {
      "text/plain": [
       "Text(0.5, 1.0, 'Data projection on first 2 Singular Vectors')"
      ]
     },
     "execution_count": 95,
     "metadata": {},
     "output_type": "execute_result"
    },
    {
     "data": {
      "image/png": "[encoded data removed]",
      "text/plain": [
       "<Figure size 432x288 with 1 Axes>"
      ]
     },
     "metadata": {
      "needs_background": "light"
     },
     "output_type": "display_data"
    }
   ],
   "source": [
    "plt.plot(xtag_proj, ytag_proj, '.r')\n",
    "plt.xlabel(\"First Singular Vector\")\n",
    "plt.ylabel(\"Second Singular Vector\")\n",
    "plt.title(\"Data projection on first 2 Singular Vectors\")"
   ]
  },
  {
   "cell_type": "code",
   "execution_count": 96,
   "metadata": {},
   "outputs": [
    {
     "name": "stdout",
     "output_type": "stream",
     "text": [
      "Train X size: (8295, 1130)\n",
      "Train Y size: (8295,)\n",
      "Test X size: (2074, 1130)\n",
      "Test Y size: (2074,)\n"
     ]
    }
   ],
   "source": [
    "#split the data by 4:1 into Train:Test\n",
    "index_bound = int(average_vec.size * 4/5)\n",
    "\n",
    "A_train = tag_matrix[:index_bound]\n",
    "print(\"Train X size:\", A_train.shape)\n",
    "y_train = average_vec[:index_bound]\n",
    "print(\"Train Y size:\", y_train.shape)\n",
    "\n",
    "A_test = tag_matrix[index_bound:]\n",
    "y_test = average_vec[index_bound:]\n",
    "print(\"Test X size:\", A_test.shape)\n",
    "print(\"Test Y size:\", y_test.shape)"
   ]
  },
  {
   "cell_type": "markdown",
   "metadata": {},
   "source": [
    "### 4.A Least Square Fit###\n",
    "\n",
    "Prediction Formula: $$ y = Aw $$  \n",
    "Least-Square Solution:\n",
    "$$ w = arg(min_w ||y - Aw||_2^2) $$  \n",
    "To solve w:  \n",
    "$$ w = (A^TA) ^{-1}A^Ty$$\n",
    "Since $ (A^TA) $ was not invertable:  \n",
    "$$ w = V \\mathbf{\\Sigma}^{-1} U^T y $$  \n",
    "where $V, \\mathbf{\\Sigma}, U$ were solved from SVD.\n"
   ]
  },
  {
   "cell_type": "code",
   "execution_count": 97,
   "metadata": {},
   "outputs": [
    {
     "data": {
      "image/png": "[encoded data removed]",
      "text/plain": [
       "<Figure size 432x288 with 1 Axes>"
      ]
     },
     "metadata": {
      "needs_background": "light"
     },
     "output_type": "display_data"
    },
    {
     "data": {
      "image/png": "[encoded data removed]",
      "text/plain": [
       "<Figure size 432x288 with 1 Axes>"
      ]
     },
     "metadata": {
      "needs_background": "light"
     },
     "output_type": "display_data"
    },
    {
     "data": {
      "image/png": "[encoded data removed]",
      "text/plain": [
       "<Figure size 432x288 with 1 Axes>"
      ]
     },
     "metadata": {
      "needs_background": "light"
     },
     "output_type": "display_data"
    }
   ],
   "source": [
    "#won't run because singular Matrix couldnt do the inverse\n",
    "#w = np.linalg.inv(A.transpose() @ A) @ A.tranpose() @ y \n",
    "\n",
    "#find the sudo-inverse by svd\n",
    "u, s, vt = np.linalg.svd(A_train)\n",
    "u = u[:, 0:s.shape[0]]\n",
    "\n",
    "w = vt.transpose() @ np.diag(1/s) @ u.transpose() @ y_train\n",
    "\n",
    "#plotting w with its index\n",
    "plt.plot(w)\n",
    "plt.title(\"w\")\n",
    "plt.xlabel(\"i\")\n",
    "plt.ylabel(\"w_i\")\n",
    "plt.show()\n",
    "\n",
    "plt.plot(w[1:])\n",
    "plt.title(\"w without w_1\")\n",
    "plt.xlabel(\"i\")\n",
    "plt.ylabel(\"w_i\")\n",
    "plt.show()\n",
    "\n",
    "plt.plot(w[2:])\n",
    "plt.title(\"w without w_1, w_2\")\n",
    "plt.xlabel(\"i\")\n",
    "plt.ylabel(\"w_i\")\n",
    "plt.show()"
   ]
  },
  {
   "cell_type": "code",
   "execution_count": 98,
   "metadata": {},
   "outputs": [],
   "source": [
    "def cal_err(y_new, y_test):\n",
    "    if(len(y_new) != len(y_test)):\n",
    "        print(\"ERROR: two set are not equal in size! \")\n",
    "        return\n",
    "    err = 0\n",
    "    for i in range(len(y_new)):\n",
    "        #err += y_new[i] * y_new[i] - y_test[i] * y_test[i]\n",
    "        err += abs(y_new[i] - y_test[i])\n",
    "        #print(abs(y_new[i] - y_test[i]))\n",
    "    \n",
    "    #err /= len(y_test)\n",
    "    return err"
   ]
  },
  {
   "cell_type": "code",
   "execution_count": 99,
   "metadata": {},
   "outputs": [
    {
     "name": "stdout",
     "output_type": "stream",
     "text": [
      "1-Norm Error: 183.49823369523213\n",
      "Average err on each prediction:  0.08847552251457673\n"
     ]
    }
   ],
   "source": [
    "#Performance on the Test Set\n",
    "y_new = A_test @ w\n",
    "err = cal_err(y_new, y_test)\n",
    "print(\"1-Norm Error:\" , err)\n",
    "print(\"Average err on each prediction: \", err/ len(y_test))\n",
    "err_ls = err/ len(y_test)"
   ]
  },
  {
   "cell_type": "markdown",
   "metadata": {},
   "source": [
    "### 4.B Least Square with Ridge Regression ###\n",
    "\n",
    "Prediction Formula: $$ y = Aw $$  \n",
    "Least-Square Solution:\n",
    "$$ w = arg(min_w ||y - Aw||_2^2 + \\mathbf{\\lambda}||w||_2^2) $$  \n",
    "To solve w:   \n",
    "$$ w = V ( \\mathbf{\\Sigma}^2 + \\mathbf{\\lambda}I) ^{-1} \\mathbf{\\Sigma} U^T y $$  \n",
    "where $V, \\mathbf{\\Sigma}, U$ were solved from SVD, and $\\mathbf{\\lambda}$ was decided by Cross-Validation.\n"
   ]
  },
  {
   "cell_type": "markdown",
   "metadata": {},
   "source": [
    "#### Step 1: Pick $\\mathbf{\\lambda}$ by cross-valid ###"
   ]
  },
  {
   "cell_type": "code",
   "execution_count": 101,
   "metadata": {},
   "outputs": [
    {
     "name": "stdout",
     "output_type": "stream",
     "text": [
      "The minimum value:  454.68555385945274\n",
      "The lambda at this value:  0.3\n"
     ]
    }
   ],
   "source": [
    "sp = 8 #split number\n",
    "\n",
    "A_cross_set = np.array_split(A_train, sp)\n",
    "y_cross_set = np.array_split(y_train, sp)\n",
    "\n",
    "lambd_test_set = [0.0001,.001, .01, .1, .2, .3, .4, .5, .6, .7, .8, .9, 1, 2, 3, 10]\n",
    "err_ttl_set = []\n",
    "\n",
    "for lambd_test in lambd_test_set:\n",
    "    err_ttl = 0\n",
    "    start_time = time.time()\n",
    "    #assume A_train_set and y_train_set match\n",
    "    for hold_index in range(sp):\n",
    "        A_eval = A_cross_set[hold_index]\n",
    "        y_eval = y_cross_set[hold_index]\n",
    "        A_train_set = np.delete(A_cross_set, hold_index, 0)\n",
    "        y_train_set = np.delete(y_cross_set, hold_index, 0)\n",
    "\n",
    "        A_train_ready = np.concatenate(A_train_set)\n",
    "        y_train_ready = np.concatenate(y_train_set)\n",
    "\n",
    "        u, s, vt = np.linalg.svd(A_train_ready)\n",
    "        u = u[:, 0:s.shape[0]]\n",
    "\n",
    "        w = vt.transpose() @ np.diag(1/(s * s + lambd_test) * s) @ u.transpose() @ y_train_ready\n",
    "\n",
    "        y_pred = A_eval @ w\n",
    "        #diff = y_pred - y_eval\n",
    "        err = cal_err(y_pred, y_eval)\n",
    "        err_ttl += err\n",
    "\n",
    "    err_ttl_set.append(err_ttl)\n",
    "\n",
    "print(\"The minimum value: \", min(err_ttl_set))\n",
    "index = err_ttl_set.index( min(err_ttl_set))\n",
    "print(\"The lambda at this value: \", lambd_test_set[index])\n",
    "lambd = lambd_test_set[index]"
   ]
  },
  {
   "cell_type": "code",
   "execution_count": 102,
   "metadata": {},
   "outputs": [
    {
     "data": {
      "text/plain": [
       "Text(0, 0.5, '1-Norm Loss')"
      ]
     },
     "execution_count": 102,
     "metadata": {},
     "output_type": "execute_result"
    },
    {
     "data": {
      "image/png": "[encoded data removed]",
      "text/plain": [
       "<Figure size 432x288 with 1 Axes>"
      ]
     },
     "metadata": {
      "needs_background": "light"
     },
     "output_type": "display_data"
    }
   ],
   "source": [
    "plt.plot(lambd_test_set[:-1], err_ttl_set[:-1])\n",
    "plt.title(\"1-Norm Loss with different lambda\")\n",
    "plt.xlabel(\"lambda\")\n",
    "plt.ylabel(\"1-Norm Loss\")"
   ]
  },
  {
   "cell_type": "markdown",
   "metadata": {},
   "source": [
    "#### Step 2: Training w with picked  $\\mathbf{\\lambda}$####"
   ]
  },
  {
   "cell_type": "code",
   "execution_count": 103,
   "metadata": {},
   "outputs": [
    {
     "data": {
      "image/png": "[encoded data removed]",
      "text/plain": [
       "<Figure size 432x288 with 1 Axes>"
      ]
     },
     "metadata": {
      "needs_background": "light"
     },
     "output_type": "display_data"
    }
   ],
   "source": [
    "u, s, vt = np.linalg.svd(A_train)\n",
    "u = u[:, 0:s.shape[0]]\n",
    "w = vt.transpose() @ np.diag(1/(s * s + lambd) * s) @ u.transpose() @ y_train\n",
    "\n",
    "plt.plot(w)\n",
    "plt.title(\"w\")\n",
    "plt.xlabel(\"i\")\n",
    "plt.ylabel(\"w_i\")\n",
    "plt.show()"
   ]
  },
  {
   "cell_type": "markdown",
   "metadata": {},
   "source": [
    "#### Step 3. Test"
   ]
  },
  {
   "cell_type": "code",
   "execution_count": 104,
   "metadata": {},
   "outputs": [
    {
     "name": "stdout",
     "output_type": "stream",
     "text": [
      "1-Norm Error: 183.64329156607891\n",
      "Average error on each prediction:  0.08854546362877479\n"
     ]
    }
   ],
   "source": [
    "y_new = A_test @ w\n",
    "err = cal_err(y_new, y_test)\n",
    "print(\"1-Norm Error:\" , err)\n",
    "print(\"Average error on each prediction: \", err/ len(y_test))\n",
    "err_l2r = err/ len(y_test)"
   ]
  },
  {
   "cell_type": "markdown",
   "metadata": {},
   "source": [
    "### 4.C Least Square with Truncated SVD###\n",
    "Prediction Formula: $$ y = Aw $$  \n",
    "To solve w:   \n",
    "$$ w = \\sum_{i = 1}^{r}\\frac{1}{\\sigma_i} v_i {u_i}^T y $$  \n",
    "\n",
    "where $v, \\mathbf{\\sigma}, u$ were solved from SVD, and $r$ was decided by Cross-Validation.\n"
   ]
  },
  {
   "cell_type": "markdown",
   "metadata": {},
   "source": [
    "#### Step 1: Pick $r$ by Cross-Validation ####"
   ]
  },
  {
   "cell_type": "code",
   "execution_count": 106,
   "metadata": {},
   "outputs": [
    {
     "name": "stdout",
     "output_type": "stream",
     "text": [
      "[600, 700, 800, 900, 1000, 1010, 1030, 1050, 1070, 1090, 1110, 1120, 1121, 1122, 1123, 1124, 1125, 1126, 1127, 1128, 1129, 1130]\n",
      "The minimum value:  456.4636248990777\n",
      "The r at this value:  1128\n"
     ]
    }
   ],
   "source": [
    "sp = 8 #split number\n",
    "\n",
    "A_cross_set = np.array_split(A_train, sp)\n",
    "y_cross_set = np.array_split(y_train, sp)\n",
    "\n",
    "r_test_set = []\n",
    "for i in range(5,10):\n",
    "    r_test_set.append((i + 1) * 100)\n",
    "for i in range(1,12, 2):\n",
    "    r_test_set.append((i+100) * 10)\n",
    "for i in range(10):\n",
    "    r_test_set.append(1120 + i)\n",
    "r_test_set.append(1130)\n",
    "print(r_test_set)\n",
    "\n",
    "\n",
    "err_ttl_set = []\n",
    "\n",
    "for r_test in r_test_set:\n",
    "    err_ttl = 0\n",
    "    start_time = time.time()\n",
    "    #assume A_train_set and y_train_set match\n",
    "    for hold_index in range(sp):\n",
    "        A_eval = A_cross_set[hold_index]\n",
    "        y_eval = y_cross_set[hold_index]\n",
    "        A_train_set = np.delete(A_cross_set, hold_index, 0)\n",
    "        y_train_set = np.delete(y_cross_set, hold_index, 0)\n",
    "\n",
    "        A_train_ready = np.concatenate(A_train_set)\n",
    "        y_train_ready = np.concatenate(y_train_set)\n",
    "\n",
    "        u, s, vt = np.linalg.svd(A_train_ready)\n",
    "        u = u[:, 0:s.shape[0]]\n",
    "\n",
    "        w = vt.transpose()[:,:r_test] @ np.diag(1/s[:r_test]) @ u.transpose()[:r_test,:] @ y_train_ready\n",
    "\n",
    "        y_pred = A_eval @ w\n",
    "        #diff = y_pred - y_eval\n",
    "        err = cal_err(y_pred, y_eval)\n",
    "        err_ttl += err\n",
    "\n",
    "    err_ttl_set.append(err_ttl)\n",
    "    \n",
    "print(\"The minimum value: \", min(err_ttl_set))\n",
    "index = err_ttl_set.index( min(err_ttl_set))\n",
    "print(\"The r at this value: \", r_test_set[index])\n",
    "r = r_test_set[index]"
   ]
  },
  {
   "cell_type": "code",
   "execution_count": 107,
   "metadata": {},
   "outputs": [
    {
     "data": {
      "image/png": "[encoded data removed]",
      "text/plain": [
       "<Figure size 432x288 with 1 Axes>"
      ]
     },
     "metadata": {
      "needs_background": "light"
     },
     "output_type": "display_data"
    },
    {
     "data": {
      "image/png": "[encoded data removed]",
      "text/plain": [
       "<Figure size 432x288 with 1 Axes>"
      ]
     },
     "metadata": {
      "needs_background": "light"
     },
     "output_type": "display_data"
    },
    {
     "data": {
      "image/png": "[encoded data removed]",
      "text/plain": [
       "<Figure size 432x288 with 1 Axes>"
      ]
     },
     "metadata": {
      "needs_background": "light"
     },
     "output_type": "display_data"
    },
    {
     "data": {
      "image/png": "[encoded data removed]",
      "text/plain": [
       "<Figure size 432x288 with 1 Axes>"
      ]
     },
     "metadata": {
      "needs_background": "light"
     },
     "output_type": "display_data"
    }
   ],
   "source": [
    "#print( err_ttl_set)\n",
    "plt.plot(r_test_set, err_ttl_set)\n",
    "plt.title(\"Loss function\")\n",
    "plt.xlabel(\"r\")\n",
    "plt.ylabel(\"2-Norm Loss\")\n",
    "plt.show()\n",
    "\n",
    "plt.plot(r_test_set[:-1], err_ttl_set[:-1])\n",
    "plt.title(\"Loss function without r = 1130\")\n",
    "plt.xlabel(\"r\")\n",
    "plt.ylabel(\"2-Norm Loss\")\n",
    "plt.show()\n",
    "\n",
    "plt.plot(r_test_set[:-2], err_ttl_set[:-2])\n",
    "plt.title(\"Loss function without r = 1130 or r = 1129\")\n",
    "plt.xlabel(\"r\")\n",
    "plt.ylabel(\"2-Norm Loss\")\n",
    "plt.show()\n",
    "\n",
    "plt.plot(r_test_set[11:-2], err_ttl_set[11:-2])\n",
    "plt.title(\"Loss function between r = 1120 to 1128\")\n",
    "plt.xlabel(\"r\")\n",
    "plt.ylabel(\"2-Norm Loss\")\n",
    "plt.show()"
   ]
  },
  {
   "cell_type": "markdown",
   "metadata": {},
   "source": [
    "#### Step 2: Training with picked $r$###"
   ]
  },
  {
   "cell_type": "code",
   "execution_count": 108,
   "metadata": {},
   "outputs": [
    {
     "data": {
      "image/png": "[encoded data removed]",
      "text/plain": [
       "<Figure size 432x288 with 1 Axes>"
      ]
     },
     "metadata": {
      "needs_background": "light"
     },
     "output_type": "display_data"
    }
   ],
   "source": [
    "u, s, vt = np.linalg.svd(A_train)\n",
    "u = u[:, 0:s.shape[0]]\n",
    "w = vt.transpose()[:,:r] @ np.diag(1/s[:r]) @ u.transpose()[:r,:] @ y_train\n",
    "\n",
    "plt.plot(w)\n",
    "plt.title(\"original w\")\n",
    "plt.show()"
   ]
  },
  {
   "cell_type": "markdown",
   "metadata": {},
   "source": [
    "#### Step 3: Test"
   ]
  },
  {
   "cell_type": "code",
   "execution_count": 109,
   "metadata": {},
   "outputs": [
    {
     "name": "stdout",
     "output_type": "stream",
     "text": [
      "1-Norm Error: 183.4776538953612\n",
      "Average error on each prediction:  0.0884655997566833\n"
     ]
    }
   ],
   "source": [
    "y_new = A_test @ w\n",
    "err = cal_err(y_new, y_test)\n",
    "print(\"1-Norm Error:\" , err)\n",
    "print(\"Average error on each prediction: \", err/ len(y_test))\n",
    "err_tr = err/ len(y_test)"
   ]
  },
  {
   "cell_type": "markdown",
   "metadata": {},
   "source": [
    "## 5. Single User's Movie Rating Prediction\n",
    "\n",
    "In this section, the user's movie rating was predicted by the same user's past rating record.  \n",
    "This was done by fitting a regression between the user's past rating score and the left singular vectors $U$ from the movie-user rating matrix.  \n",
    "The reason behind this was that we could consider the left singular vectors as a set of user's taste patterns on each of the movies. By fitting the user's past scores into the taste patterns, we could find the user's rating habit, which could lead to the prediction of new movies.  \n",
    "Since the user did not rate all movies, only the movie that the user rated would be put into the Tastes pattern matrix.\n",
    "\n",
    "Below were the data structures that we need for this section.\n",
    "\n",
    "User P's Movie Rating $y$:\n",
    "\n",
    "|Movie_index| P's Rating|\n",
    "|----------:|--------------:|\n",
    "|0| 3.5|\n",
    "|1| 2.0|\n",
    "|3| 5.0|\n",
    "|134| 1.0|\n",
    "|...|...|\n",
    "\n",
    "Tastes pattern Matrix $A$ (modified $U$):  \n",
    "\n",
    "|_ |taste_0| taste_1|...|tag_n|    \n",
    "| -------------:|--------:|--------:|-------------:|--------:|\n",
    "|Movie_0 |0.xx |0.xx |...|0.xx|\n",
    "|Movie_1 |0.xx |0.xx|...|0.xx|\n",
    "|Movie_3 |0.xx |0.xx |...|0.xx|\n",
    "|Movie_134 |0.xx |0.Xx |...|0.xx|\n",
    "|... |... |... |...|...|\n",
    "\n",
    "\n",
    "Due to the limit in computation power, only first 100 users were included.\n",
    "The code below split the user's rating into 2 part for training and testing.\n",
    "The error was calculated by  \n",
    "$$Error = \\sum_{i:users} (\\frac{\\sum_{j:tests}|\\hat{y}_{ij} - y_{ij}|}{\\# tests})\\space  /\\space  \\#users$$"
   ]
  },
  {
   "cell_type": "markdown",
   "metadata": {},
   "source": [
    "### 5.A Linear Least Square Fit\n",
    "\n",
    "Prediction Formula: $$ y = Aw $$  \n",
    "Least-Square Solution:\n",
    "$$ w = arg(min_w ||y - Aw||_2^2 + ||w||_2^2) $$  \n",
    "To solve w:  \n",
    "$$ w = (A^TA + \\lambda I) ^{-1}A^Ty$$\n"
   ]
  },
  {
   "cell_type": "code",
   "execution_count": 145,
   "metadata": {},
   "outputs": [
    {
     "name": "stdout",
     "output_type": "stream",
     "text": [
      "Shape of tastes pattern matrix:  (26744, 100)\n"
     ]
    }
   ],
   "source": [
    "u, s, vt = svds(sp_matrix, k = 100)\n",
    "print(\"Shape of tastes pattern matrix: \", u.shape)\n",
    "users_amt = 100"
   ]
  },
  {
   "cell_type": "code",
   "execution_count": 147,
   "metadata": {},
   "outputs": [],
   "source": [
    "err_ttl = []\n",
    "test_cnt = []\n",
    "l = 0.007\n",
    "for user_index in range(users_amt):\n",
    "        user_rating = sp_matrix.getcol(user_index)\n",
    "        nzero_index = user_rating.nonzero() #find the index of non_zero elements\n",
    "        non_zero_rating = np.asarray([user_rating[i, 0] for i in nzero_index[0]])\n",
    "\n",
    "        u_partial = np.asarray([u[i] for i in nzero_index[0]])\n",
    "        #print(u_partial.shape)\n",
    "\n",
    "        index_bound = int(u_partial.shape[0] * 4/5)\n",
    "        A_train = u_partial[: index_bound, :]\n",
    "        y_train = non_zero_rating[: index_bound]\n",
    "\n",
    "        A_test = u_partial[index_bound:, :]\n",
    "        y_test = non_zero_rating[index_bound:]\n",
    "        \n",
    "        w = np.linalg.inv(A_train.T @ A_train + l * np.diag(np.ones(A_train.shape[1]))) @ A_train.T @ y_train\n",
    "        y_pred = A_test @ w\n",
    "        #print(\"Average Error on each rating: \", sum(abs(y_pred - y_test)) / y_test.shape[0])\n",
    "        \n",
    "        err_ttl.append(sum(abs(y_pred - y_test)))\n",
    "        test_cnt.append(y_test.shape[0])"
   ]
  },
  {
   "cell_type": "code",
   "execution_count": 148,
   "metadata": {},
   "outputs": [
    {
     "name": "stdout",
     "output_type": "stream",
     "text": [
      "Average 1-Norm error on prediction:  1.8755938161539174\n"
     ]
    }
   ],
   "source": [
    "err = np.asarray(err_ttl)\n",
    "test = np.asarray(test_cnt)\n",
    "#print(err/ test)\n",
    "#print(len(err))\n",
    "print(\"Average 1-Norm error on prediction: \", sum(err/ test) / users_amt)"
   ]
  },
  {
   "cell_type": "code",
   "execution_count": 149,
   "metadata": {},
   "outputs": [
    {
     "data": {
      "image/png": "[encoded data removed]",
      "text/plain": [
       "<Figure size 432x288 with 1 Axes>"
      ]
     },
     "metadata": {
      "needs_background": "light"
     },
     "output_type": "display_data"
    }
   ],
   "source": [
    "plt.plot(range(users_amt), err/test, \".r\")\n",
    "plt.title(\"Average 1-Norm Error on for each users\")\n",
    "plt.xlabel(\"User index\")\n",
    "plt.ylabel(\"Average of 1-Norm Error\")\n",
    "err_5ls =  err/test"
   ]
  },
  {
   "cell_type": "markdown",
   "metadata": {},
   "source": [
    "### 5.B High Dimension Least Square Fit with L2 regularization\n",
    "\n",
    "High dimension Regression was calculated by Guassian Kernel method shown below:\n",
    "$$ y = \\sum_{i = 1}^{N} \\alpha_i K(x, x_i) $$\n",
    "where $N$ was the number of past movie records the user had.\n",
    "\n",
    "Guassian Kernel K was defined as:\n",
    "$$ K(u,v) = \\exp\\{\\frac{-||u - v|| ^2_2}{2\\sigma^2}\\} $$\n",
    "\n",
    "And $\\alpha_i$ was solved by:\n",
    "$$ \\alpha = (\\kappa  + \\lambda I)^{-1} d $$\n",
    "\n",
    "where $\\kappa$ was defined as:\n",
    "$$ \\kappa = \\Phi\\Phi^T$$\n",
    "$$ [\\kappa]_{ij} =  \\phi^T(x^i)\\phi^T(x^j) = K(x^i, x^j)$$"
   ]
  },
  {
   "cell_type": "code",
   "execution_count": 117,
   "metadata": {},
   "outputs": [],
   "source": [
    "def Guassian_kernal(u, v, thegma = 1):\n",
    "    a = sum((u - v)**2 * -1 / 2 / thegma**2)\n",
    "    return math.exp(a)"
   ]
  },
  {
   "cell_type": "code",
   "execution_count": 118,
   "metadata": {},
   "outputs": [],
   "source": [
    "u, s, vt = svds(sp_matrix, k = 100)\n",
    "l = 0.007\n",
    "start_time = time.time()\n",
    "err_ttl = []\n",
    "test_cnt = []\n",
    "for user_index in range(users_amt):\n",
    "    #user_rating = sp_matrix.getcol(random.randint(0, len(user_dict) - 1))\n",
    "    user_rating = sp_matrix.getcol(user_index)\n",
    "    nzero_index = user_rating.nonzero() #find the index of non_zero elements\n",
    "    non_zero_rating = np.asarray([user_rating[i, 0] for i in nzero_index[0]])\n",
    "\n",
    "    u_partial = np.asarray([u[i] for i in nzero_index[0]])\n",
    "\n",
    "    index_bound = int(u_partial.shape[0] * 4/5)\n",
    "    A_train = u_partial[: index_bound, :]\n",
    "    y_train = non_zero_rating[: index_bound]\n",
    "\n",
    "    A_test = u_partial[index_bound:, :]\n",
    "    y_test = non_zero_rating[index_bound:]\n",
    "\n",
    "    K_matrix = np.zeros((A_train.shape[0],A_train.shape[0]) )\n",
    "    for i in range(K_matrix.shape[0]):\n",
    "        for j in range(K_matrix.shape[1]):\n",
    "            K_matrix[i,j] = Guassian_kernal(A_train[i,:], A_train[j,:])\n",
    "\n",
    "    I = np.diag(l * np.ones(K_matrix.shape[0]))\n",
    "    alpha = np.linalg.inv(K_matrix + I) @ y_train\n",
    "\n",
    "    y_pred = np.zeros(y_test.shape[0])\n",
    "    for row in range(y_test.shape[0]):\n",
    "        y_pred[row] = sum(alpha[i] * Guassian_kernal(A_test[row, :], A_train[i, :]) for i in range(K_matrix.shape[0]))\n",
    "\n",
    "    err_ttl.append(sum(abs(y_pred - y_test)))\n",
    "    test_cnt.append(y_test.shape[0])\n",
    "    #if(user_index % 10 == 9):\n",
    "        #print(user_index, \": Time taken: \", (time.time() - start_time))\n",
    "\n",
    "record_time = time.time() - start_time"
   ]
  },
  {
   "cell_type": "code",
   "execution_count": 119,
   "metadata": {},
   "outputs": [
    {
     "name": "stdout",
     "output_type": "stream",
     "text": [
      "Average 1-Norm error on prediction:  0.7511311097902166\n"
     ]
    }
   ],
   "source": [
    "err = np.asarray(err_ttl)\n",
    "test = np.asarray(test_cnt)\n",
    "#print(err/ test)\n",
    "print(\"Average 1-Norm error on prediction: \", sum(err/ test) / users_amt)"
   ]
  },
  {
   "cell_type": "code",
   "execution_count": 120,
   "metadata": {},
   "outputs": [
    {
     "data": {
      "image/png": "[encoded data removed]",
      "text/plain": [
       "<Figure size 432x288 with 1 Axes>"
      ]
     },
     "metadata": {
      "needs_background": "light"
     },
     "output_type": "display_data"
    }
   ],
   "source": [
    "plt.plot(range(users_amt), err/test, \".r\")\n",
    "plt.title(\"Average 1-Norm Error on for each users\")\n",
    "plt.xlabel(\"User index\")\n",
    "plt.ylabel(\"Average of 1-Norm Error\")\n",
    "err_5hd =  err/test"
   ]
  },
  {
   "cell_type": "code",
   "execution_count": 143,
   "metadata": {},
   "outputs": [
    {
     "name": "stdout",
     "output_type": "stream",
     "text": [
      "Hours needed to predict all user's rating:  32.980444131471714 h\n"
     ]
    }
   ],
   "source": [
    "print(\"Hours needed to predict all user's rating: \", record_time * len(user_dict) / users_amt / 3600, \"h\")"
   ]
  },
  {
   "cell_type": "markdown",
   "metadata": {},
   "source": [
    "## 6. Discussion"
   ]
  },
  {
   "cell_type": "markdown",
   "metadata": {},
   "source": [
    "### 6.A Average Rating Prediction\n",
    "Three methods were implemented in total to predict the average movie rating based on the movie-tag matrix.  \n",
    "They were Least-Square(LS) regression, LS with Ridge Regularization, and LS with Truncated SVD Regularization.  \n",
    "Their test 1-Norm average error on each movie were shown below."
   ]
  },
  {
   "cell_type": "code",
   "execution_count": 128,
   "metadata": {},
   "outputs": [
    {
     "name": "stdout",
     "output_type": "stream",
     "text": [
      "Least-Square(LS) regression:  0.08847552251457673\n",
      "LS with Ridge Regularization:  0.08854546362877479\n",
      "LS with Truncated SVD Regularization:  0.0884655997566833\n"
     ]
    },
    {
     "data": {
      "text/plain": [
       "Text(0, 0.5, 'log(error)')"
      ]
     },
     "execution_count": 128,
     "metadata": {},
     "output_type": "execute_result"
    },
    {
     "data": {
      "image/png": "[encoded data removed]",
      "text/plain": [
       "<Figure size 432x288 with 1 Axes>"
      ]
     },
     "metadata": {
      "needs_background": "light"
     },
     "output_type": "display_data"
    }
   ],
   "source": [
    "print(\"Least-Square(LS) regression: \", err_ls)\n",
    "print(\"LS with Ridge Regularization: \", err_l2r)\n",
    "print(\"LS with Truncated SVD Regularization: \", err_tr)\n",
    "plt.bar([\"Least Square\", \" Ridge Regularization\", \"Truncated SVD\"], [err_ls,err_l2r,err_tr] ,width=0.7, log = True);\n",
    "plt.ylabel(\"log(error)\")"
   ]
  },
  {
   "cell_type": "markdown",
   "metadata": {},
   "source": [
    "### 6.B User's Rating Prediction\n",
    "Two mothods were implemented to predict the movie rating score on a single user.  \n",
    "They are Linear Regression and High Dimension Regression.  \n",
    "Their 1-Norm average error on each person's each rating were shown below.  "
   ]
  },
  {
   "cell_type": "code",
   "execution_count": 150,
   "metadata": {},
   "outputs": [
    {
     "name": "stdout",
     "output_type": "stream",
     "text": [
      "Linear regression:  1.8755938161539174\n",
      "Hign Dimension regression:  0.7511311097902166\n"
     ]
    },
    {
     "data": {
      "image/png": "[encoded data removed]",
      "text/plain": [
       "<Figure size 432x288 with 1 Axes>"
      ]
     },
     "metadata": {
      "needs_background": "light"
     },
     "output_type": "display_data"
    }
   ],
   "source": [
    "print(\"Linear regression: \", sum(err_5ls) / users_amt)\n",
    "print(\"Hign Dimension regression: \", sum(err_5hd) / users_amt)\n",
    "plt.plot(range(users_amt), err_5ls, \".r\", label = \"Linear\")\n",
    "plt.plot(range(users_amt), err_5hd, \".b\", label = \"High Dimension\")\n",
    "plt.legend()\n",
    "plt.xlabel(\"User_index\")\n",
    "plt.ylabel(\"1-Norm Average Error\")\n",
    "plt.show()"
   ]
  },
  {
   "cell_type": "markdown",
   "metadata": {},
   "source": [
    "## 7. Conclusion\n",
    "\n",
    "Based on the dataset of 20M ratings and 11.7K taggings, this project successfully predicted the movie's average rating and user's single movie rating with an acceptable error.\n",
    "\n",
    "The average movie rating could be predicted with the error less than 0.09.   \n",
    "The best method for this was Linear Least-Square Regression with Truncated SVD Regularization.  \n",
    "\n",
    "The single movie rating from a specific user could be predicted with error less than 0.8.  \n",
    "The best method for this was High Dimension Regression with L2 Regularization. "
   ]
  }
 ],
 "metadata": {
  "kernelspec": {
   "display_name": "Python 3",
   "language": "python",
   "name": "python3"
  },
  "language_info": {
   "codemirror_mode": {
    "name": "ipython",
    "version": 3
   },
   "file_extension": ".py",
   "mimetype": "text/x-python",
   "name": "python",
   "nbconvert_exporter": "python",
   "pygments_lexer": "ipython3",
   "version": "3.7.3"
  }
 },
 "nbformat": 4,
 "nbformat_minor": 2
}
